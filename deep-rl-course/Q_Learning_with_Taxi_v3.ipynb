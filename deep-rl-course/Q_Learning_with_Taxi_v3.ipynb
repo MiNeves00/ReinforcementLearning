{
  "nbformat": 4,
  "nbformat_minor": 0,
  "metadata": {
    "colab": {
      "name": "Q-Learning with Taxi-v3.ipynb",
      "provenance": [],
      "collapsed_sections": [],
      "include_colab_link": true
    },
    "kernelspec": {
      "name": "python3",
      "display_name": "Python 3"
    }
  },
  "cells": [
    {
      "cell_type": "markdown",
      "metadata": {
        "id": "view-in-github",
        "colab_type": "text"
      },
      "source": [
        "<a href=\"https://colab.research.google.com/github/MiNeves00/ReinforcementLearning/blob/main/Q_Learning_with_Taxi_v3.ipynb\" target=\"_parent\"><img src=\"https://colab.research.google.com/assets/colab-badge.svg\" alt=\"Open In Colab\"/></a>"
      ]
    },
    {
      "cell_type": "markdown",
      "metadata": {
        "id": "Obinrzx2wXBA"
      },
      "source": [
        "# Q-Learning with Taxi-v3 🚕\n",
        "In this notebook, you'll implement a **Q-Learning** taxi that will need to learn to **navigate in a city to transport its passengers from point A to point B.** 🚖"
      ]
    },
    {
      "cell_type": "markdown",
      "metadata": {
        "id": "RcRXoqUKlgef"
      },
      "source": [
        "## Prerequisites 🏗️\n",
        "Before diving into the notebook **you need to understand**:\n",
        "- The foundations of Reinforcement learning (MC, TD, Rewards hypothesis...). \n",
        "\n",
        "[📜 Read the chapter](https://medium.com/@thomassimonini/an-introduction-to-deep-reinforcement-learning-17a565999c0c?source=friends_link&sk=1b1121ae5d9814a09ca38b47abc7dc61) \n",
        "\n",
        "[📹 Watch the chapter](https://youtu.be/q0BiUn5LiBc)\n",
        "\n",
        "- Q-Learning Part 1\n",
        "\n",
        "[📜 Read the chapter](https://medium.com/@thomassimonini/q-learning-lets-create-an-autonomous-taxi-part-1-2-3e8f5e764358)\n",
        "\n",
        "[📹 Watch the chapter](https://youtu.be/230bR2DrbdE)\n",
        "\n",
        "- Q-Learning Part 2\n",
        "\n",
        "[📜 Read the chapter]()\n",
        "\n",
        "\n"
      ]
    },
    {
      "cell_type": "markdown",
      "metadata": {
        "id": "JFxqLfAd8Qb7"
      },
      "source": [
        "# This is a notebook from [Deep Reinforcement Learning Course v2.0 with Tensorflow and PyTorch](https://simoninithomas.github.io/deep-rl-course/)\n",
        "<img src=\"https://simoninithomas.github.io/deep-rl-course/assets/img/environments.jpg\" alt=\"Deep Reinforcement Course v2.0\"/>\n",
        "<br>\n",
        "\n",
        "Deep RL Course v2.0 is a **free course in Deep Reinforcement Learning from beginner to expert**.\n",
        "\n",
        "You'll build a **strong professional portfolio** by implementing awesome agents (Q-Learning, Deep Q-Learning, Policy Gradients, A2C, PPO, SAC...) **with Tensorflow and PyTorch that learns to play Space invaders👾, Doom👹, Minecraft, Starcraft, Sonic the hedgehog and more!** \n",
        "\n",
        "In addition to the foundation's syllabus, we add a **new series on building AI for video games in Unity and Unreal Engine** using Deep RL.\n",
        "\n",
        "## 📚 [Check the syllabus](https://simoninithomas.github.io/Deep_reinforcement_learning_Course/)\n",
        "## 👨‍💻 [Check the Repository](https://github.com/simoninithomas/Deep_reinforcement_learning_Course)\n",
        "## 📹 [Subscribe to our YouTube Channel](https://www.youtube.com/c/thomassimonini?sub_confirmation=1) \n",
        "\n",
        "\n",
        "## Any questions ?\n",
        "<p> Feel free to ask me: 📧: <a href=\"mailto:simonini.thomas.pro@gmail.com\">simonini.thomas.pro@gmail.com</a>  </p>\n",
        "\n",
        "## Keep in Touch  🙌\n",
        "\n",
        "Follow me on [Twitter @ThomasSimonini](https://twitter.com/ThomasSimonini)\n",
        "\n",
        "[Subscribe to our Youtube Channel](https://www.youtube.com/c/thomassimonini?sub_confirmation=1) \n",
        "\n"
      ]
    },
    {
      "cell_type": "markdown",
      "metadata": {
        "id": "TuZAjCnEwaP4"
      },
      "source": [
        "### Step 0: Install and import the libraries 📚\n",
        "We will use different libraries:\n",
        "- `Numpy`: For handling our Q-table.\n",
        "- `OpenAI Gym`: Contains our 🚕 environment (Taxi-v3).\n",
        "- `Random`: To generate random numbers (that will be useful for Epsilon-Greedy Policy).\n"
      ]
    },
    {
      "cell_type": "code",
      "metadata": {
        "id": "Bx1OvOOywHHX"
      },
      "source": [
        "!pip install numpy\n",
        "!pip install gym"
      ],
      "execution_count": null,
      "outputs": []
    },
    {
      "cell_type": "code",
      "metadata": {
        "id": "hU5lxL3CxFIg"
      },
      "source": [
        "import numpy as np\n",
        "import gym\n",
        "import random"
      ],
      "execution_count": null,
      "outputs": []
    },
    {
      "cell_type": "markdown",
      "metadata": {
        "id": "20tSdDbxxK_H"
      },
      "source": [
        "## Step 1: Create the environment 🕹️\n",
        "- Here we'll create the Taxi-v3 environment 🚕. \n",
        "\n",
        "[Environment]\n",
        "\n",
        "Our environment looks like this: \n",
        "- It's a **5x5 grid world**\n",
        "- Our 🚕 is spawned **randomly** in a square. \n",
        "- The passenger is **spawned randomly in one of the 4 possible locations** (R, B, G, Y) and wishes to go in one of the **4 possibles locations too**.\n",
        "\n",
        "The reward system:\n",
        "- -1 for each timestep\n",
        "- +20 for successfully deliver the passenger\n",
        "- -10 for illegal actions (pickup or putdown the passenger at the outside of the destination)."
      ]
    },
    {
      "cell_type": "code",
      "metadata": {
        "id": "oXUVzEu8xRiF"
      },
      "source": [
        "env = gym.make(\"Taxi-v3\")\n",
        "env.render()"
      ],
      "execution_count": null,
      "outputs": []
    },
    {
      "cell_type": "markdown",
      "metadata": {
        "id": "P3xll7Bmxemc"
      },
      "source": [
        "## Step 2: Create the Q-table and initialize it 🗄️\n",
        "- Now, we'll create our Q-table, to know how much rows (states) and columns (actions) we need to know the **action_space and the observation_space**.\n",
        "- OpenAI Gym provides us a way to do that: `env.action_space.n` and `env.observation_space.n`"
      ]
    },
    {
      "cell_type": "code",
      "metadata": {
        "id": "aP9i7HRUxKaO",
        "outputId": "74914ba6-21c4-4fb9-811d-8530943c1a9b",
        "colab": {
          "base_uri": "https://localhost:8080/"
        }
      },
      "source": [
        "state_space = env.observation_space.n\n",
        "print(\"There are \", state_space, \" possible states\")\n",
        "action_space = env.action_space.n\n",
        "print(\"There are \", action_space, \" possible actions\")"
      ],
      "execution_count": null,
      "outputs": [
        {
          "output_type": "stream",
          "name": "stdout",
          "text": [
            "There are  500  possible states\n",
            "There are  6  possible actions\n"
          ]
        }
      ]
    },
    {
      "cell_type": "code",
      "metadata": {
        "id": "RK00re1ux8He",
        "outputId": "0c0d919f-5a25-4093-8dc4-76fd8d718866",
        "colab": {
          "base_uri": "https://localhost:8080/"
        }
      },
      "source": [
        "# Create our Q table\n",
        "Q = np.zeros((state_space, action_space))\n",
        "print(Q)\n",
        "print(Q.shape)"
      ],
      "execution_count": null,
      "outputs": [
        {
          "output_type": "stream",
          "name": "stdout",
          "text": [
            "[[0. 0. 0. 0. 0. 0.]\n",
            " [0. 0. 0. 0. 0. 0.]\n",
            " [0. 0. 0. 0. 0. 0.]\n",
            " ...\n",
            " [0. 0. 0. 0. 0. 0.]\n",
            " [0. 0. 0. 0. 0. 0.]\n",
            " [0. 0. 0. 0. 0. 0.]]\n",
            "(500, 6)\n"
          ]
        }
      ]
    },
    {
      "cell_type": "markdown",
      "metadata": {
        "id": "no8VizkczcY1"
      },
      "source": [
        "## Step 3: Define the hyperparameters ⚙️\n",
        "- Here, we'll specify the hyperparameters"
      ]
    },
    {
      "cell_type": "code",
      "metadata": {
        "id": "4fCIcSZhzes3"
      },
      "source": [
        "total_episodes = 25000 # train episodes\n",
        "total_test_episodes = 100 # test episodes\n",
        "max_steps = 200 # max steps per episode\n",
        "\n",
        "learning_rate = 0.01\n",
        "gamma = 0.99 # discount rate\n",
        "\n",
        "# Exploration vs Explotation\n",
        "epsilon = 1.0\n",
        "max_epsilon = 1.00\n",
        "min_epsilon = 0.001\n",
        "decay_rate = 0.01"
      ],
      "execution_count": null,
      "outputs": []
    },
    {
      "cell_type": "markdown",
      "metadata": {
        "id": "4T-oXbikx6jU"
      },
      "source": [
        "## Step 4: Define the epsilon-greedy policy 🤖\n",
        "\n",
        "Epsilon-Greedy is a policy that handles the exploration/[exploitation trade-off](https://medium.com/@thomassimonini/an-introduction-to-deep-reinforcement-learning-17a565999c0c?source=friends_link&sk=1b1121ae5d9814a09ca38b47abc7dc61).\n",
        "\n",
        "### The idea\n",
        "\n",
        "Epsilon Greedy:\n",
        "\n",
        "- *With probability 1 - ɛ* : we do **exploitation** (aka our agent selects the action with the highest state-action pair value).\n",
        "\n",
        "- *With probability ɛ*: we do **exploration** (trying random action).\n",
        "\n",
        "And as the training goes, **we progressively reduce the epsilon value** since we will **need less and less exploration and more exploitation**."
      ]
    },
    {
      "cell_type": "code",
      "metadata": {
        "id": "iWw9brgtx6DS"
      },
      "source": [
        ""
      ],
      "execution_count": null,
      "outputs": []
    },
    {
      "cell_type": "markdown",
      "metadata": {
        "id": "1qFTQYzwrIet"
      },
      "source": [
        "## Step 5: Define the Q-Learning algorithm and train our agent 🧠\n",
        "- Now we implement the Q learning algorithm:\n",
        "[Q-Learning]"
      ]
    },
    {
      "cell_type": "code",
      "metadata": {
        "id": "lWYibdun-uDO"
      },
      "source": [
        ""
      ],
      "execution_count": null,
      "outputs": []
    },
    {
      "cell_type": "markdown",
      "metadata": {
        "id": "1U8Qymsitpw4"
      },
      "source": [
        "## Step 6: Let's watch our autonomous 🚖 \n",
        "- By running this cell, you'll see your smart taxi agent.\n",
        "\n",
        "\n"
      ]
    },
    {
      "cell_type": "code",
      "metadata": {
        "id": "WlJYOh0yBHZO"
      },
      "source": [
        ""
      ],
      "execution_count": null,
      "outputs": []
    }
  ]
}